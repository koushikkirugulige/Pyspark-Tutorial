{
 "cells": [
  {
   "cell_type": "code",
   "execution_count": null,
   "metadata": {},
   "outputs": [],
   "source": [
    "from pyspark.sql import SparkSession"
   ]
  },
  {
   "cell_type": "code",
   "execution_count": null,
   "metadata": {},
   "outputs": [],
   "source": [
    "import threading\n",
    "\n",
    "\n",
    "def do_job(f1, f2):\n",
    "    #print(f1,f2)\n",
    "    df1 = spark.read.csv(f1,header=True)\n",
    "    df2 = spark.read.csv(f2,header=True)\n",
    "    outputs.append(df1.join(df2, \"Name\", \"inner\").count())"
   ]
  },
  {
   "cell_type": "code",
   "execution_count": null,
   "metadata": {},
   "outputs": [],
   "source": [
    "spark = SparkSession \\\n",
    "    .builder \\\n",
    "    .appName(\"Parallel\") \\\n",
    "    .master(\"local[3]\") \\\n",
    "    .config('spark.sql.autoBroadcastJoinThreshold','50B') \\\n",
    "    .config('spark.scheduler.mode',\"FAIR\") \\\n",
    "    .getOrCreate()"
   ]
  },
  {
   "cell_type": "code",
   "execution_count": null,
   "metadata": {},
   "outputs": [],
   "source": [
    "\n",
    "file_prefix = r'file/path/'\n",
    "jobs = []\n",
    "outputs = []\n"
   ]
  },
  {
   "cell_type": "code",
   "execution_count": null,
   "metadata": {},
   "outputs": [],
   "source": [
    "\n",
    "%%time\n",
    "for i in range(0, 2):\n",
    "    file1 = file_prefix + 'test1.csv'\n",
    "    file2 = file_prefix + 'test2.csv'\n",
    "    thread = threading.Thread(target=do_job, args=(file1, file2))\n",
    "    jobs.append(thread)\n",
    "\n",
    "#print(jobs)\n",
    "\n",
    "for j in jobs:\n",
    "    j.start()\n",
    "\n",
    "for j in jobs:\n",
    "    j.join()\n",
    "\n",
    "print(outputs)"
   ]
  }
 ],
 "metadata": {
  "kernelspec": {
   "display_name": "Python 3",
   "language": "python",
   "name": "python3"
  },
  "language_info": {
   "codemirror_mode": {
    "name": "ipython",
    "version": 3
   },
   "file_extension": ".py",
   "mimetype": "text/x-python",
   "name": "python",
   "nbconvert_exporter": "python",
   "pygments_lexer": "ipython3",
   "version": "3.6.4"
  }
 },
 "nbformat": 4,
 "nbformat_minor": 2
}
